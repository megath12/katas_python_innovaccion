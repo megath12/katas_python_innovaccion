{
 "cells": [
  {
   "cell_type": "markdown",
   "metadata": {},
   "source": [
    "<h1> KATA Modulo 7</h1>"
   ]
  },
  {
   "cell_type": "markdown",
   "metadata": {},
   "source": [
    "<h3> Ejercicio 1 y 2 </h3>"
   ]
  },
  {
   "cell_type": "code",
   "execution_count": 15,
   "metadata": {},
   "outputs": [
    {
     "name": "stdout",
     "output_type": "stream",
     "text": [
      "asd\n",
      "hyh\n",
      "fsfd\n",
      "rg\n",
      "ki\n",
      "fr\n",
      "de\n",
      "dw\n",
      "jy\n"
     ]
    }
   ],
   "source": [
    "\n",
    "new_planet=input(\"Escribe un planeta\")\n",
    "planets=[]\n",
    "while new_planet!=\"done\":\n",
    "    if new_planet:\n",
    "        planets.append(new_planet)\n",
    "    new_planet=input(\"Escribe un planeta\")\n",
    "\n",
    "    \n",
    "k=len(planets)\n",
    "for il in range(k):\n",
    "    print(planets[il])"
   ]
  },
  {
   "cell_type": "code",
   "execution_count": 12,
   "metadata": {},
   "outputs": [
    {
     "ename": "SyntaxError",
     "evalue": "invalid syntax (1361249063.py, line 3)",
     "output_type": "error",
     "traceback": [
      "\u001b[1;36m  Input \u001b[1;32mIn [12]\u001b[1;36m\u001b[0m\n\u001b[1;33m    for il in planets\u001b[0m\n\u001b[1;37m                     ^\u001b[0m\n\u001b[1;31mSyntaxError\u001b[0m\u001b[1;31m:\u001b[0m invalid syntax\n"
     ]
    }
   ],
   "source": [
    "\n",
    "    \n",
    "k=len(planets)\n",
    "print(k)\n",
    "for il in planets\n",
    "    print(il)"
   ]
  }
 ],
 "metadata": {
  "interpreter": {
   "hash": "4a37a082ec1ea8f129bf6bbb754d75a354f4edc598c37fa39787aceb5193daf8"
  },
  "kernelspec": {
   "display_name": "Python 3.9.10 64-bit",
   "language": "python",
   "name": "python3"
  },
  "language_info": {
   "codemirror_mode": {
    "name": "ipython",
    "version": 3
   },
   "file_extension": ".py",
   "mimetype": "text/x-python",
   "name": "python",
   "nbconvert_exporter": "python",
   "pygments_lexer": "ipython3",
   "version": "3.9.10"
  },
  "orig_nbformat": 4
 },
 "nbformat": 4,
 "nbformat_minor": 2
}
