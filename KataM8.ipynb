{
 "cells": [
  {
   "cell_type": "markdown",
   "metadata": {},
   "source": [
    "<h1> KATA Modulo 8</h1>"
   ]
  },
  {
   "cell_type": "markdown",
   "metadata": {},
   "source": [
    "<h3> Ejercicio 1 </h3>"
   ]
  },
  {
   "cell_type": "code",
   "execution_count": 18,
   "metadata": {},
   "outputs": [
    {
     "name": "stdout",
     "output_type": "stream",
     "text": [
      "mars\n",
      "2\n",
      "Planeta: mars circunferencia 6752\n"
     ]
    }
   ],
   "source": [
    "\n",
    "planet={\n",
    "    \"name\":\"mars\",\n",
    "    \"moons\":2\n",
    "}\n",
    "print(planet.get(\"name\"))\n",
    "print(planet[\"moons\"])\n",
    "\n",
    "planet[\"circunferencia (km)\"]={\"polar\": 6752,\n",
    "\"equatorial\": 6792}\n",
    "#planet.update({\"equatorial\":6792})\n",
    "#planet[\"polar\"]=6752\n",
    "#planet.update({\"equatorial\":6792})\n",
    "\n",
    "print(f'Planeta: {planet[\"name\"]} circunferencia {planet[\"circunferencia (km)\"][\"polar\"]}')\n"
   ]
  },
  {
   "cell_type": "markdown",
   "metadata": {},
   "source": [
    "<h3> Ejercicio 2 </h3>"
   ]
  },
  {
   "cell_type": "code",
   "execution_count": 28,
   "metadata": {},
   "outputs": [
    {
     "name": "stdout",
     "output_type": "stream",
     "text": [
      "Hay 12 planetas y 214 lunas, el promedio de lunas por planetas es de 17.833\n"
     ]
    }
   ],
   "source": [
    "\n",
    "planet_moons = {\n",
    "    'mercury': 0,\n",
    "    'venus': 0,\n",
    "    'earth': 1,\n",
    "    'mars': 2,\n",
    "    'jupiter': 79,\n",
    "    'saturn': 82,\n",
    "    'uranus': 27,\n",
    "    'neptune': 14,\n",
    "    'pluto': 5,\n",
    "    'haumea': 2,\n",
    "    'makemake': 1,\n",
    "    'eris': 1\n",
    "}\n",
    "k=planet_moons.values()\n",
    "#print(k)\n",
    "moons=0\n",
    "for va in k:\n",
    "    moons+=va\n",
    "pl=len(k)\n",
    "pr=(moons/len(k))\n",
    "print(f'Hay {pl} planetas y {moons} lunas, el promedio de lunas por planetas es de {round(pr,3)}')\n"
   ]
  }
 ],
 "metadata": {
  "interpreter": {
   "hash": "4a37a082ec1ea8f129bf6bbb754d75a354f4edc598c37fa39787aceb5193daf8"
  },
  "kernelspec": {
   "display_name": "Python 3.9.10 64-bit",
   "language": "python",
   "name": "python3"
  },
  "language_info": {
   "codemirror_mode": {
    "name": "ipython",
    "version": 3
   },
   "file_extension": ".py",
   "mimetype": "text/x-python",
   "name": "python",
   "nbconvert_exporter": "python",
   "pygments_lexer": "ipython3",
   "version": "3.9.10"
  },
  "orig_nbformat": 4
 },
 "nbformat": 4,
 "nbformat_minor": 2
}
