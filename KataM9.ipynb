{
 "cells": [
  {
   "cell_type": "markdown",
   "metadata": {},
   "source": [
    "<h1> KATA Modulo 9</h1>"
   ]
  },
  {
   "cell_type": "markdown",
   "metadata": {},
   "source": [
    "<h3> Ejercicio 1 </h3>"
   ]
  },
  {
   "cell_type": "code",
   "execution_count": 13,
   "metadata": {},
   "outputs": [
    {
     "name": "stdout",
     "output_type": "stream",
     "text": [
      "Combustible en tanques 13,45,2\n"
     ]
    }
   ],
   "source": [
    "\n",
    "def comb(v1,v2,v3):\n",
    "    print(f'Combustible en tanques {v1},{v2},{v3}')\n",
    "\n",
    "comb(13,45,2)\n"
   ]
  },
  {
   "cell_type": "code",
   "execution_count": 14,
   "metadata": {},
   "outputs": [
    {
     "data": {
      "text/plain": [
       "'El promedio de combustible es: 27.0'"
      ]
     },
     "execution_count": 14,
     "metadata": {},
     "output_type": "execute_result"
    }
   ],
   "source": [
    "\n",
    "def pro(x1,x2,x3):\n",
    "    r=(x1+x2+x3)/3\n",
    "    return f'El promedio de combustible es: {r}'\n",
    "\n",
    "pro(13,45,23)\n"
   ]
  },
  {
   "cell_type": "code",
   "execution_count": 20,
   "metadata": {},
   "outputs": [
    {
     "name": "stdout",
     "output_type": "stream",
     "text": [
      "Combustible en los tanques 13,45,2\n"
     ]
    },
    {
     "data": {
      "text/plain": [
       "'El promedio de combustible es: 20.0'"
      ]
     },
     "execution_count": 20,
     "metadata": {},
     "output_type": "execute_result"
    }
   ],
   "source": [
    "\n",
    "def comb(v1,v2,v3):\n",
    "    print(f'Combustible en los tanques {v1},{v2},{v3}')\n",
    "    r=(v1+v2+v3)/3\n",
    "    return f'El promedio de combustible es: {r}'\n",
    "\n",
    "comb(13,45,2)\n"
   ]
  },
  {
   "cell_type": "markdown",
   "metadata": {},
   "source": [
    "<h3> Ejercicio 2 </h3>"
   ]
  },
  {
   "cell_type": "code",
   "execution_count": 42,
   "metadata": {},
   "outputs": [
    {
     "name": "stdout",
     "output_type": "stream",
     "text": [
      "la mision incia a las 12 horas, tiempo de duracion 3 con destino a Marte combustible interno es 23 y el externo 65\n"
     ]
    }
   ],
   "source": [
    "\n",
    "def mirep(h,t,d,ti,te):\n",
    "    print(f\"\"\"la mision incia a las {h} horas, tiempo de duracion {t} con destino a {d} combustible interno es {ti} y el externo {te}\"\"\")\n",
    "\n",
    "mirep(12,3,\"Marte\",23,65)\n",
    "\n",
    "\n"
   ]
  },
  {
   "cell_type": "code",
   "execution_count": 53,
   "metadata": {},
   "outputs": [
    {
     "name": "stdout",
     "output_type": "stream",
     "text": [
      "el destino es Luna llegara en (12, 43, 0), con una reserva de {'min': 5, 'max': 95}\n"
     ]
    }
   ],
   "source": [
    "\n",
    "def mi(de,*minutes,**fuel_reservoirs):\n",
    "    print(f\"\"\"el destino es {de} llegara en {minutes}, con una reserva de {fuel_reservoirs}\"\"\")\n",
    "\n",
    "mi(\"Luna\",12,43,00,min=5,max=95)\n"
   ]
  },
  {
   "cell_type": "code",
   "execution_count": 61,
   "metadata": {},
   "outputs": [
    {
     "name": "stdout",
     "output_type": "stream",
     "text": [
      "2 Tanques disponibles en la nave\n",
      "tanque_interno: 5\n",
      "tanque_externo: 95\n"
     ]
    }
   ],
   "source": [
    "\n",
    "def mi(de,*minutes,**fuel_reservoirs):\n",
    "    print(f'{len(fuel_reservoirs)} Tanques disponibles en la nave')\n",
    "    for title, name in fuel_reservoirs.items():\n",
    "        print(f'{title}: {name}')\n",
    "mi(\"Luna\",12,43,00,tanque_interno=5,tanque_externo=95)\n"
   ]
  }
 ],
 "metadata": {
  "interpreter": {
   "hash": "4a37a082ec1ea8f129bf6bbb754d75a354f4edc598c37fa39787aceb5193daf8"
  },
  "kernelspec": {
   "display_name": "Python 3.9.10 64-bit",
   "language": "python",
   "name": "python3"
  },
  "language_info": {
   "codemirror_mode": {
    "name": "ipython",
    "version": 3
   },
   "file_extension": ".py",
   "mimetype": "text/x-python",
   "name": "python",
   "nbconvert_exporter": "python",
   "pygments_lexer": "ipython3",
   "version": "3.9.10"
  },
  "orig_nbformat": 4
 },
 "nbformat": 4,
 "nbformat_minor": 2
}
