{
 "cells": [
  {
   "cell_type": "markdown",
   "metadata": {},
   "source": [
    "<h1> KATA Modulo 3 </h1>"
   ]
  },
  {
   "cell_type": "markdown",
   "metadata": {},
   "source": [
    "<h3>Primer programa:</h3>"
   ]
  },
  {
   "cell_type": "code",
   "execution_count": 4,
   "metadata": {},
   "outputs": [
    {
     "name": "stdout",
     "output_type": "stream",
     "text": [
      "El asteoride se acerca a la tierra demasiado rapido\n"
     ]
    }
   ],
   "source": [
    "# Un asteroide se acerca, y viaja a una velocidad de 49 km/s.\n",
    "# Añadir el código necesario para crear una variable que guarde la velocidad del asteroide.\n",
    "# Escribe una expresión de prueba para calcular si necesita una advertencia.\n",
    "# Agregue las instrucciones que se ejecutarán si la expresión de prueba es true o false.\n",
    "\n",
    "va=49\n",
    "\n",
    "if va>25:\n",
    "    print(\"El asteoride se acerca a la tierra demasiado rapido\")\n",
    "else:\n",
    "    print(\"Buen dia, nada relevante\")\n",
    "\n"
   ]
  },
  {
   "cell_type": "markdown",
   "metadata": {},
   "source": [
    "<h3>Segundo programa</h3>"
   ]
  },
  {
   "cell_type": "code",
   "execution_count": 8,
   "metadata": {},
   "outputs": [
    {
     "name": "stdout",
     "output_type": "stream",
     "text": [
      "Buen dia, nada relevante\n"
     ]
    }
   ],
   "source": [
    "\n",
    "#Si un asteroide entra en la atmósfera de la Tierra a una velocidad mayor o igual a 20 km/s, a veces produce un rayo de luz que se puede ver desde la Tierra. Escribe la lógica condicional que usa \n",
    "# declaraciones if, else, y elif para alertar a las personas de todo el mundo que deben buscar un asteroide en el cielo. ¡Hay uno que se dirige a la tierra ahora a una velocidad de 19 km/s!\n",
    "\n",
    "# Agrega el código para crear una variable para un asteroide que viaja a 19 km/s\n",
    "# Escribe varias expresiones de prueba para determinar si puedes ver el rayo de luz desde la tierra\n",
    "# Agrega las instrucciones que se ejecutarán si las expresiones de prueba son True o False\n",
    "\n",
    "va=19\n",
    "\n",
    "if va==20:\n",
    "    print(\"Mira el cielo, puede que encuentres un rayo azul correspondiente a un asteoride\")\n",
    "elif va>20:\n",
    "    print(\"Mira el cielo, puede que encuentres un rayo azul correspondiente a un asteoride\")\n",
    "else:\n",
    "    print(\"Buen dia, nada relevante\")\n"
   ]
  },
  {
   "cell_type": "markdown",
   "metadata": {},
   "source": [
    "<h3>Tercer programa</h3>"
   ]
  },
  {
   "cell_type": "code",
   "execution_count": 12,
   "metadata": {},
   "outputs": [
    {
     "name": "stdout",
     "output_type": "stream",
     "text": [
      "El asteoride tiene un tamaño considerable\n",
      "Mira el cielo, puede que encuentres un rayo azul correspondiente al asteoride\n"
     ]
    }
   ],
   "source": [
    "#*Los asteroides de menos de 25 metros en su dimensión más grande probablemente se quemarán a medida que entren en la atmósfera de la Tierra.\n",
    "\n",
    "#Si una pieza de un asteroide que es más grande que 25 metros pero más pequeña que 1000 metros golpeara la Tierra, causaría mucho daño.#\n",
    "#También discutimos en el ejercicio anterior que:\n",
    "\n",
    "#La velocidad del asteroide varía en función de lo cerca que esté del sol, y cualquier velocidad superior a 25 kilómetros por segundo (km/s) merece una advertencia.\n",
    "#Si un asteroide entra en la atmósfera de la Tierra a una velocidad mayor o igual a 20 km/s, a veces produce un rayo de luz que se puede ver desde la Tierra.\n",
    "#Usando toda esta información, escribe un programa que emita la advertencia o información correcta a la gente de la Tierra, según la velocidad y el tamaño de un asteroide. Utiliza instrucciones if, else, y elif, así como los operadores and y or.\n",
    "\n",
    "# Agrega el código para crear nuevas variables para la velocidad y el tamaño del asteroide\n",
    "# Para probar el código, prueba con varias velocidades y tamaños\n",
    "# Escribe varias expresiones de prueba o combinaciones de expresiones de prueba para determinar qué mensaje se debe enviar a Tierra.\n",
    "\n",
    "\n",
    "ta=27\n",
    "va=21\n",
    "\n",
    "if ta>25 and ta<1000:\n",
    "    print(\"El asteoride tiene un tamaño considerable\")\n",
    "    if va>25:\n",
    "        print(\"El asteoride se acerca a la tierra demasiado rapido, puede que encuentres un rayo azul correspondiente al asteoride\")\n",
    "    elif va>=20 and va<=25:\n",
    "        print(\"Mira el cielo, puede que encuentres un rayo azul correspondiente al asteoride\")\n",
    "\n",
    "else:\n",
    "    print(\"El asteoride no representa peligro\")\n",
    "    if va>=20:\n",
    "        print(\"Mira el cielo, puede que encuentres un rayo azul correspondiente al asteoride\")\n",
    "\n"
   ]
  }
 ],
 "metadata": {
  "interpreter": {
   "hash": "4a37a082ec1ea8f129bf6bbb754d75a354f4edc598c37fa39787aceb5193daf8"
  },
  "kernelspec": {
   "display_name": "Python 3.9.10 64-bit",
   "language": "python",
   "name": "python3"
  },
  "language_info": {
   "codemirror_mode": {
    "name": "ipython",
    "version": 3
   },
   "file_extension": ".py",
   "mimetype": "text/x-python",
   "name": "python",
   "nbconvert_exporter": "python",
   "pygments_lexer": "ipython3",
   "version": "3.9.10"
  },
  "orig_nbformat": 4
 },
 "nbformat": 4,
 "nbformat_minor": 2
}
